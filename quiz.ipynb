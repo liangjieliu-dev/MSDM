{
 "cells": [
  {
   "cell_type": "markdown",
   "id": "edb0845f-fd72-4c37-899a-8c1377dd9125",
   "metadata": {},
   "source": [
    "# Written by LIU, Liangjie"
   ]
  },
  {
   "cell_type": "code",
   "execution_count": 3,
   "id": "da02d43e-abee-40be-a4ce-c269a4f9c7d7",
   "metadata": {},
   "outputs": [
    {
     "name": "stdout",
     "output_type": "stream",
     "text": [
      "0的个数: 8133\n",
      "1的个数: 7980\n",
      "-1的个数: 7887\n"
     ]
    }
   ],
   "source": [
    "from random import randint, seed\n",
    "\n",
    "n = 20\n",
    "m = 30\n",
    "p = 40\n",
    "\n",
    "seed(10)\n",
    "\n",
    "A = [[[randint(-1, 1) for x in range(n)] for y in range(m)] for z in range(p)]\n",
    "\n",
    "count_0 = 0\n",
    "count_1 = 0\n",
    "count_neg1 = 0\n",
    "\n",
    "for i in range(p):\n",
    "    for j in range(m):\n",
    "        for k in range(n):\n",
    "            if A[i][j][k] == 0:\n",
    "                count_0 += 1\n",
    "            elif A[i][j][k] == 1:\n",
    "                count_1 += 1\n",
    "            elif A[i][j][k] == -1:\n",
    "                count_neg1 += 1\n",
    "\n",
    "print(f\"0的个数: {count_0}\")\n",
    "print(f\"1的个数: {count_1}\")\n",
    "print(f\"-1的个数: {count_neg1}\")"
   ]
  },
  {
   "cell_type": "code",
   "execution_count": null,
   "id": "af505329-2eba-458d-be38-c6934eebeea4",
   "metadata": {},
   "outputs": [],
   "source": []
  }
 ],
 "metadata": {
  "kernelspec": {
   "display_name": "Python 3 (ipykernel)",
   "language": "python",
   "name": "python3"
  },
  "language_info": {
   "codemirror_mode": {
    "name": "ipython",
    "version": 3
   },
   "file_extension": ".py",
   "mimetype": "text/x-python",
   "name": "python",
   "nbconvert_exporter": "python",
   "pygments_lexer": "ipython3",
   "version": "3.9.6"
  }
 },
 "nbformat": 4,
 "nbformat_minor": 5
}
