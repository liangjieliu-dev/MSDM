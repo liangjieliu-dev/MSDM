{
 "cells": [
  {
   "cell_type": "markdown",
   "id": "b3de0171-7a2c-4d42-8870-9025776212a7",
   "metadata": {},
   "source": [
    "# MSDM5002 HW2\n",
    "## Written by LIU Liangjie"
   ]
  },
  {
   "cell_type": "code",
   "execution_count": 1,
   "id": "b8eab76f-41f2-4135-a452-eb07524af1ad",
   "metadata": {},
   "outputs": [
    {
     "name": "stdout",
     "output_type": "stream",
     "text": [
      "After 1000 games: Player A won 596 times, Player B won 283 times, 121 games ended in a draw.\n"
     ]
    }
   ],
   "source": [
    "# Q1\n",
    "# Part a\n",
    "def check_winner(board):\n",
    "    winning_combinations = [\n",
    "        (0, 1, 2), (3, 4, 5), (6, 7, 8),  # rows\n",
    "        (0, 3, 6), (1, 4, 7), (2, 5, 8),  # columns\n",
    "        (0, 4, 8), (2, 4, 6)              # diagonals\n",
    "    ]\n",
    "    \n",
    "    for combo in winning_combinations:\n",
    "        a, b, c = combo\n",
    "        if board[a] == board[b] == board[c] != 0:\n",
    "            return board[a]\n",
    "    \n",
    "    return 0\n",
    "\n",
    "# Part b\n",
    "import random\n",
    "\n",
    "def simulate_ttt():\n",
    "    board = [0] * 9\n",
    "    moves = list(range(9))\n",
    "    random.shuffle(moves)  # Shuffle the moves to simulate random picking\n",
    "    \n",
    "    for i in range(9):\n",
    "        if i % 2 == 0:\n",
    "            board[moves[i]] = 1  # Player A's move\n",
    "        else:\n",
    "            board[moves[i]] = -1  # Player B's move\n",
    "        \n",
    "        result = check_winner(board)\n",
    "        if result != 0:\n",
    "            return result\n",
    "    \n",
    "    return 0\n",
    "\n",
    "def simulate_games(n=1000):\n",
    "    a_wins = 0\n",
    "    b_wins = 0\n",
    "    draws = 0\n",
    "    \n",
    "    for _ in range(n):\n",
    "        result = simulate_ttt()\n",
    "        if result == 1:\n",
    "            a_wins += 1\n",
    "        elif result == -1:\n",
    "            b_wins += 1\n",
    "        else:\n",
    "            draws += 1\n",
    "    \n",
    "    print(f\"After {n} games: Player A won {a_wins} times, Player B won {b_wins} times, {draws} games ended in a draw.\")\n",
    "\n",
    "simulate_games()"
   ]
  },
  {
   "cell_type": "code",
   "execution_count": 2,
   "id": "086172c3-1e65-4936-bb8c-243daeea5dd4",
   "metadata": {},
   "outputs": [
    {
     "name": "stdout",
     "output_type": "stream",
     "text": [
      "Average number of pulls to get a UR card: 123.437\n"
     ]
    }
   ],
   "source": [
    "#Q2\n",
    "import random\n",
    "\n",
    "def simulate_gacha():\n",
    "    card_pool = {\n",
    "        'UR': {'count': 2, 'prob': 0.001},\n",
    "        'SSR': {'count': 10, 'prob': 0.003},\n",
    "        'SR': {'count': 50, 'prob': 0.006},\n",
    "        'R': {'count': 100, 'prob': 0.00668}\n",
    "    }\n",
    "    \n",
    "    pulls = 0\n",
    "    while card_pool['UR']['count'] > 1:\n",
    "        pulls += 1\n",
    "        total_cards_weight = sum(card['count'] * card['prob'] for card in card_pool.values())\n",
    "        # Draw a card\n",
    "        draw = random.random()\n",
    "        cumulative_prob = 0.0\n",
    "        for card_type, info in card_pool.items():\n",
    "            prob = info['count'] * info['prob'] / total_cards_weight\n",
    "            cumulative_prob += prob\n",
    "            if draw < cumulative_prob:\n",
    "                # Card is drawn\n",
    "                card_pool[card_type]['count'] -= 1\n",
    "                if card_type == 'UR':\n",
    "                    return pulls\n",
    "                break\n",
    "\n",
    "def simulate_multiple_gacha_trials(trials=1000):\n",
    "    total_pulls = 0\n",
    "    for _ in range(trials):\n",
    "        total_pulls += simulate_gacha()\n",
    "    \n",
    "    average_pulls = total_pulls / trials\n",
    "    print(f\"Average number of pulls to get a UR card: {average_pulls}\")\n",
    "\n",
    "simulate_multiple_gacha_trials(1000)"
   ]
  },
  {
   "cell_type": "markdown",
   "id": "af692071-2a38-463b-a18d-625214f89dc8",
   "metadata": {},
   "source": [
    "# Q3\n",
    "### Part a\n",
    "1. **Corridors and Intersections**:\n",
    "   \n",
    "    - **Horizontal corridors**: When the $ y $-coordinate is a multiple of 3, movement is allowed in the horizontal direction (left and right).\n",
    "    - **Vertical corridors**: When the $ x $-coordinate is a multiple of 3, movement is allowed in the vertical direction (up and down).\n",
    "    - **Intersections**: When both $ x $ and $ y $ are multiples of 3, movement is allowed in all four directions (up, down, left, and right).\n",
    "\n",
    "2. **Position Constraints**: All movements must take place within a grid with coordinates constrained by $ 0 \\leq x \\leq 15 $ and $ 0 \\leq y \\leq 15 $. If the position is on the boundary, such as when  x  or  y  equals 0 or 15, movement in the direction that goes beyond the grid is not allowed. If the position is at one of the four corners of the grid, only two directions are available for movement. Otherwise, when located on the boundary but not at a corner, three directions are available for movement."
   ]
  },
  {
   "cell_type": "code",
   "execution_count": 3,
   "id": "a0c19161-30bd-44a7-881c-cfb1adb55c2e",
   "metadata": {},
   "outputs": [
    {
     "name": "stdout",
     "output_type": "stream",
     "text": [
      "Average steps: 51.276\n"
     ]
    }
   ],
   "source": [
    "# Part b\n",
    "import random\n",
    "\n",
    "def step(x, y, memory):\n",
    "    directions = []\n",
    "    \n",
    "    if x % 3 == 0 and y % 3 == 0:\n",
    "        if x - 1 >= 0:\n",
    "            directions.append((x-1, y))\n",
    "        if x + 1 <= 15:\n",
    "            directions.append((x+1, y))\n",
    "        if y - 1 >= 0:\n",
    "            directions.append((x, y-1))\n",
    "        if y + 1 <= 15:\n",
    "            directions.append((x, y+1))\n",
    "    \n",
    "    elif x % 3 == 0:\n",
    "        if y - 1 >= 0:\n",
    "            directions.append((x, y-1))\n",
    "        if y + 1 <= 15:\n",
    "            directions.append((x, y+1))\n",
    "    \n",
    "    elif y % 3 == 0:\n",
    "        if x - 1 >= 0:\n",
    "            directions.append((x-1, y))\n",
    "        if x + 1 <= 15:\n",
    "            directions.append((x+1, y))\n",
    "    \n",
    "    if memory in directions:\n",
    "        directions.remove(memory)\n",
    "    \n",
    "    new_position = random.choice(directions)\n",
    "    return new_position, (x, y)\n",
    "\n",
    "# Part c\n",
    "def simulate_supermarket():\n",
    "    A_pos = (15, 0)\n",
    "    B_pos = (0, 15)\n",
    "    A_memory = A_pos\n",
    "    B_memory = B_pos\n",
    "    steps = 0\n",
    "    \n",
    "    while A_pos != B_pos:\n",
    "        \n",
    "        if A_pos[0] == B_pos[0]:\n",
    "            steps += abs(A_pos[1] - B_pos[1])\n",
    "            break\n",
    "        if A_pos[1] == B_pos[1]:\n",
    "            steps += abs(A_pos[0] - B_pos[0])\n",
    "            break\n",
    "            \n",
    "        A_pos, A_memory = step(A_pos[0], A_pos[1], A_memory)\n",
    "        steps += 1\n",
    "        \n",
    "        if A_pos == B_pos:\n",
    "            break\n",
    "        \n",
    "        B_pos, B_memory = step(B_pos[0], B_pos[1], B_memory)\n",
    "        steps += 1\n",
    "        \n",
    "    return steps\n",
    "\n",
    "def run_simulation(trials=1000):\n",
    "    total_steps = 0\n",
    "    for _ in range(trials):\n",
    "        total_steps += simulate_supermarket()\n",
    "    return total_steps / trials\n",
    "\n",
    "print(f\"Average steps: {run_simulation()}\")"
   ]
  },
  {
   "cell_type": "code",
   "execution_count": 4,
   "id": "f2a5850f-9ddd-4fab-86a8-773650126def",
   "metadata": {},
   "outputs": [
    {
     "name": "stdout",
     "output_type": "stream",
     "text": [
      "The lose probability is: 0.5042\n",
      "Time: 0.04454612731933594\n"
     ]
    }
   ],
   "source": [
    "# Q4\n",
    "# Original code (this code is for comparing the speed, has not accelerated)\n",
    "import numpy as np\n",
    "import time\n",
    "\n",
    "num_test=10000\n",
    "num_pos=6             #maximum number of bullets in the gun\n",
    "pos_take=[1,3,4]      #the orders taking shoots for the player\n",
    "\n",
    "start_time=time.time()\n",
    "\n",
    "num_lose=0\n",
    "for nt in range(num_test):\n",
    "    A=np.zeros(num_pos,bool)\n",
    "    A[np.random.randint(0,num_pos)]=True\n",
    "    #more precise simulations for the scenario in the video\n",
    "    #since the first shot is empty\n",
    "    # A[np.random.randint(1,num_pos)]=True\n",
    "    \n",
    "    #more elegent\n",
    "    if any(A[pos_take]):\n",
    "        num_lose += 1\n",
    "    \n",
    "    # ##easy to extend    \n",
    "    # for n in range(num_pos):\n",
    "    #     if A[n]==1:\n",
    "    #         if n in pos_take:\n",
    "    #             num_lose += 1\n",
    "    #         break\n",
    "\n",
    "print(\"The lose probability is:\", num_lose/num_test)\n",
    "print(\"Time:\",time.time()-start_time)"
   ]
  },
  {
   "cell_type": "code",
   "execution_count": 5,
   "id": "6fcb49a2-2948-40e7-8381-7160b660bca4",
   "metadata": {},
   "outputs": [
    {
     "name": "stdout",
     "output_type": "stream",
     "text": [
      "The lose probability is: 0.5043\n",
      "Time: 0.0010602474212646484\n"
     ]
    }
   ],
   "source": [
    "# Task (accelerated)\n",
    "import numpy as np\n",
    "import time\n",
    "\n",
    "num_test = 10000\n",
    "num_pos = 6         \n",
    "pos_take = np.array([1, 3, 4]) \n",
    "\n",
    "start_time = time.time()\n",
    "\n",
    "# This generates a random position of the bullet for each test.\n",
    "bullet_positions = np.random.randint(0, num_pos, num_test)\n",
    "\n",
    "# For each bullet position, check if it's one of the positions where the player shoots.\n",
    "lose_conditions = np.isin(bullet_positions, pos_take)\n",
    "\n",
    "# Count the number of losses\n",
    "num_lose = np.sum(lose_conditions)\n",
    "\n",
    "print(\"The lose probability is:\", num_lose / num_test)\n",
    "print(\"Time:\", time.time() - start_time)"
   ]
  },
  {
   "cell_type": "code",
   "execution_count": 6,
   "id": "c69c9bba-29ab-4329-a7de-f732b9b7debd",
   "metadata": {},
   "outputs": [
    {
     "name": "stdout",
     "output_type": "stream",
     "text": [
      "The lose probability is: 0.9205\n",
      "Time: 0.07731819152832031\n"
     ]
    }
   ],
   "source": [
    "# Bonus 1：multiple bullets in the gun\n",
    "# Original code (this code is for comparing the speed, has not accelerated)\n",
    "import numpy as np\n",
    "import time\n",
    "\n",
    "num_test=10000\n",
    "num_pos=10\n",
    "\n",
    "pos_take=[0,1,2,3,4]\n",
    "\n",
    "start_time=time.time()\n",
    "\n",
    "num_lose=0\n",
    "for nt in range(num_test):\n",
    "    A=np.zeros(num_pos)\n",
    "    \n",
    "    #setup the first bullet\n",
    "    B1=np.random.randint(0,num_pos)\n",
    "    A[B1]=1\n",
    "    \n",
    "    #setup the second bullet\n",
    "    B2=B1\n",
    "    while B2==B1:\n",
    "        B2=np.random.randint(0,num_pos)\n",
    "    A[B2]=1\n",
    "    \n",
    "    #setup the third bullet\n",
    "    B3=B1\n",
    "    while B3==B1 or B3==B2:\n",
    "        B3=np.random.randint(0,num_pos)\n",
    "    A[B3]=1\n",
    "\n",
    "    for n in range(num_pos):\n",
    "        if A[n]==1:\n",
    "            if n in pos_take:\n",
    "                num_lose += 1\n",
    "            break\n",
    "\n",
    "print(\"The lose probability is:\", num_lose/num_test)\n",
    "print(\"Time:\",time.time()-start_time)"
   ]
  },
  {
   "cell_type": "code",
   "execution_count": 7,
   "id": "67c573e3-e9ed-4eac-961a-b9e188b99d66",
   "metadata": {},
   "outputs": [
    {
     "name": "stdout",
     "output_type": "stream",
     "text": [
      "The lose probability is: 0.9184\n",
      "Time: 0.0035448074340820312\n"
     ]
    }
   ],
   "source": [
    "# Bonus 1\n",
    "# Task (accelerated)\n",
    "import numpy as np\n",
    "import time\n",
    "\n",
    "num_test = 10000   \n",
    "num_pos = 10      \n",
    "pos_take = np.array([0, 1, 2, 3, 4])\n",
    "num_bullets = 3\n",
    "start_time = time.time()\n",
    "\n",
    "# Step 1: Generate random numbers and sort them to get random permutation indices\n",
    "rand_nums = np.random.rand(num_test, num_pos)\n",
    "positions = np.argsort(rand_nums, axis=1)\n",
    "\n",
    "# Step 2: Take the first num_bullets positions in each row as the bullet positions\n",
    "random_positions = positions[:, :num_bullets]\n",
    "\n",
    "# Step 3: Directly check if any bullets hit the player's positions\n",
    "lose_conditions = np.isin(random_positions, pos_take).any(axis=1)\n",
    "\n",
    "# Step 4: Count the number of losses\n",
    "num_lose = np.sum(lose_conditions)\n",
    "\n",
    "print(\"The lose probability is:\", num_lose / num_test)\n",
    "print(\"Time:\", time.time() - start_time)"
   ]
  },
  {
   "cell_type": "markdown",
   "id": "39352a5d-22bd-430f-a766-ea1cb0130beb",
   "metadata": {},
   "source": [
    "## Bonus 2\n",
    "This is because the events of bullet hits are not independent of each other, and the arrangement and firing sequence of bullets result in uneven probability distribution.\n",
    "\n",
    "Let’s look at an example:\n",
    "\n",
    "If the magazine has six slots and two people take turns firing, with only one bullet, it does not matter who goes first or second; the probability of dying is 50% for both. \n",
    "\n",
    "If three bullets are loaded and placed consecutively, with no empty slots between them:\n",
    "\n",
    "In this case, the probability of the first shooter dying is 2/3, and the probability of the second shooter dying is 1/3. Specifically:\n",
    "\n",
    "- The probability of dying on the first shot is 1 * 1/2 = 1/2;\n",
    "\n",
    "- The probability of dying on the second shot is 1/2 * 1/3 = 1/6;\n",
    "\n",
    "- The probability of dying on the third shot is 1/2 * 2/3 * 1/2 = 1/6;\n",
    "\n",
    "- The probability of dying on the fourth shot is 1/2 * 2/3 * 1/2 * 1 = 1/6;\n",
    "\n",
    "Explanation of the formula: The probability of firing the shot * the probability of dying on that shot.\n",
    "\n",
    "The probability of the first shooter dying is 1/2 + 1/6 = 2/3, and the probability of the second shooter dying is 1/6 + 1/6 = 1/3."
   ]
  },
  {
   "cell_type": "code",
   "execution_count": null,
   "id": "4fdccba5-70cc-4e6b-893f-52423e2cfc0e",
   "metadata": {},
   "outputs": [],
   "source": []
  }
 ],
 "metadata": {
  "kernelspec": {
   "display_name": "Python 3 (ipykernel)",
   "language": "python",
   "name": "python3"
  },
  "language_info": {
   "codemirror_mode": {
    "name": "ipython",
    "version": 3
   },
   "file_extension": ".py",
   "mimetype": "text/x-python",
   "name": "python",
   "nbconvert_exporter": "python",
   "pygments_lexer": "ipython3",
   "version": "3.9.6"
  }
 },
 "nbformat": 4,
 "nbformat_minor": 5
}
