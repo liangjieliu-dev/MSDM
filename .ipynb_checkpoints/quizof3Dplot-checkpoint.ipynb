{
 "cells": [
  {
   "cell_type": "code",
   "execution_count": 2,
   "id": "ece1da00-e1aa-4d02-9047-dd4c0416cab6",
   "metadata": {},
   "outputs": [
    {
     "name": "stderr",
     "output_type": "stream",
     "text": [
      "2024-11-01 23:20:28.564 Python[5619:401587] +[IMKClient subclass]: chose IMKClient_Legacy\n",
      "2024-11-01 23:20:28.564 Python[5619:401587] +[IMKInputSession subclass]: chose IMKInputSession_Legacy\n"
     ]
    }
   ],
   "source": [
    "import numpy as np\n",
    "import matplotlib.pyplot as plt\n",
    "from mpl_toolkits.mplot3d import Axes3D\n",
    "from matplotlib import cm\n",
    "%matplotlib qt\n",
    "\n",
    "x = np.linspace(-10 * np.pi, 0, 500)\n",
    "z = x * np.sin(x)\n",
    "y = x * np.cos(x)\n",
    "\n",
    "fig = plt.figure()\n",
    "ax = fig.add_subplot(111, projection='3d')\n",
    "\n",
    "ax.set_box_aspect([5, 1, 1])\n",
    "\n",
    "ax.plot([x[-1] - 100, x[-1]], [y[-1], y[-1]], [z[-1], z[-1]], color='blue', linewidth=2)\n",
    "\n",
    "for i in range(len(x)):\n",
    "    ax.scatter(x[i], y[i], z[i], color=cm.jet(1 - i / len(x)), s=(len(x) - i) / 30)\n",
    "ax.plot(x, y, z, color='black', linewidth=1)\n",
    "\n",
    "end_z = z[-1]\n",
    "end_y = y[-1]\n",
    "end_x = x[-1] + 5\n",
    "\n",
    "for r in np.linspace(0, 30, 4):\n",
    "    theta = np.linspace(0, 2 * np.pi, 300)\n",
    "    ax.scatter(end_x, end_y + r * np.sin(theta), end_z + r * np.cos(theta), color='red', s = 1)\n",
    "\n",
    "ax.text(2 * (x[-1] - 100 + x[-1]) / 3, y[-1], z[-1], \"spiral arrow\", color='black')\n",
    "\n",
    "ax.set_axis_off()\n",
    "plt.show()"
   ]
  },
  {
   "cell_type": "code",
   "execution_count": 3,
   "id": "d72d24f9-dc2e-4a43-b794-b08759b3e4a9",
   "metadata": {},
   "outputs": [],
   "source": [
    "import numpy as np\n",
    "import matplotlib.pyplot as plt\n",
    "from mpl_toolkits.mplot3d import Axes3D\n",
    "from matplotlib import cm\n",
    "%matplotlib qt\n",
    "\n",
    "# 定义 x, y, z 数据\n",
    "x = np.linspace(-10 * np.pi, 0, 500)\n",
    "y, z = x * np.cos(x), x * np.sin(x)\n",
    "\n",
    "# 初始化 3D 图形\n",
    "fig = plt.figure()\n",
    "ax = fig.add_subplot(projection='3d')\n",
    "ax.set_box_aspect([5, 1, 1])\n",
    "\n",
    "# 绘制箭头的蓝色终点线\n",
    "ax.plot([x[-1] - 100, x[-1]], [y[-1], y[-1]], [z[-1], z[-1]], color='blue', linewidth=2)\n",
    "\n",
    "# 绘制渐变散点和主线条\n",
    "for i in range(len(x)):\n",
    "    ax.scatter(x[i], y[i], z[i], color=cm.jet(1 - i / len(x)), s=(len(x) - i) / 30)\n",
    "ax.plot(x, y, z, color='black', linewidth=1)\n",
    "\n",
    "# 绘制旋转的红色环状散点\n",
    "end_x, end_y, end_z = x[-1] + 5, y[-1], z[-1]\n",
    "for r in np.linspace(0, 30, 4):\n",
    "    theta = np.linspace(0, 2 * np.pi, 300)\n",
    "    ax.scatter(end_x, end_y + r * np.sin(theta), end_z + r * np.cos(theta), color='red', s=1)\n",
    "\n",
    "# 添加文字标签\n",
    "ax.text(2 * (x[-1] - 100 + x[-1]) / 3, y[-1], z[-1], \"spiral arrow\", color='black')\n",
    "\n",
    "# 隐藏坐标轴\n",
    "ax.set_axis_off()\n",
    "plt.show()"
   ]
  },
  {
   "cell_type": "code",
   "execution_count": null,
   "id": "12f648cf-dba0-4338-9f58-e19db36c71f1",
   "metadata": {},
   "outputs": [],
   "source": []
  }
 ],
 "metadata": {
  "kernelspec": {
   "display_name": "Python 3 (ipykernel)",
   "language": "python",
   "name": "python3"
  },
  "language_info": {
   "codemirror_mode": {
    "name": "ipython",
    "version": 3
   },
   "file_extension": ".py",
   "mimetype": "text/x-python",
   "name": "python",
   "nbconvert_exporter": "python",
   "pygments_lexer": "ipython3",
   "version": "3.9.6"
  }
 },
 "nbformat": 4,
 "nbformat_minor": 5
}
