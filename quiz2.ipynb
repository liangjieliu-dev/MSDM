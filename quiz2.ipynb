{
 "cells": [
  {
   "cell_type": "markdown",
   "id": "45b72528-29be-483a-b23f-168e59ed966d",
   "metadata": {},
   "source": [
    "# MSDM5002 Quiz2\n",
    "## Written by Liu, Liangjie"
   ]
  },
  {
   "cell_type": "code",
   "execution_count": 1,
   "id": "a256b159-f039-4407-a6cf-91bd548deb51",
   "metadata": {},
   "outputs": [],
   "source": [
    "import re\n",
    "\n",
    "def contains_uppercase(word):\n",
    "    return any(c.isupper() for c in word)\n",
    "\n",
    "def is_exception(word):\n",
    "    exceptions = ['a', 'an', 'the', 'at', 'by', 'for', 'in', 'of', 'on', 'to', 'up', 'and', 'as', 'but', 'or', 'nor']\n",
    "    return word.lower() in exceptions\n",
    "\n",
    "def split_words_and_symbols(sentence):\n",
    "    return re.split(r'(\\W+)', sentence)\n",
    "\n",
    "def capitalize_part(part):\n",
    "    return part.capitalize()\n",
    "\n",
    "def process_word(word):\n",
    "    if contains_uppercase(word):\n",
    "        return word\n",
    "    if is_exception(word):\n",
    "        return word\n",
    "    return capitalize_part(word)\n",
    "\n",
    "def capitalize_title(title):\n",
    "    parts = split_words_and_symbols(title)\n",
    "    result = [process_word(part) if part.isalnum() else part for part in parts]\n",
    "    return ''.join(result)"
   ]
  },
  {
   "cell_type": "code",
   "execution_count": 2,
   "id": "f4d55a1a-3a06-43dc-92a3-2519992afd2e",
   "metadata": {},
   "outputs": [
    {
     "name": "stdin",
     "output_type": "stream",
     "text": [
      "Enter a message:  Welcome to MSDM_5002 of data-driven modeling for master students offered by phys&math department in UST. We will continue to learn NumPy.\n"
     ]
    },
    {
     "name": "stdout",
     "output_type": "stream",
     "text": [
      "Welcome to MSDM_5002 of Data-Driven Modeling for Master Students Offered by Phys&Math Department in UST. We Will Continue to Learn NumPy.\n"
     ]
    }
   ],
   "source": [
    "# message = 'Welcome to the world of data-driven modeling \\\n",
    "# for MSc students offered by UST in a great and \\\n",
    "# green campus on the hill'\n",
    "# message = 'Welcome to the world of data-driven modeling \\\n",
    "# for master students offered by HK-UST'\n",
    "# message = 'Welcome to the world of data-driven modeling \\\n",
    "# for master students offered by dept-of-phys&math/HKUST'\n",
    "# message = 'Welcome to MSDM_5002 for DDM master-students \\\n",
    "# offered by math&phys of UST@HK.\\\n",
    "# We have learned NumPy!'\n",
    "# message = 'Welcome to MSDM_5002 for DDM master-students \\\n",
    "# offered by math&phys Of@UST@HK. \\\n",
    "# We have learned NumPy!'\n",
    "# message = 'Welcome to MSDM_5002 of data-driven modeling \\\n",
    "# for MSc students offered by phys&math Department in UST. \\\n",
    "# We will continue to learn NumPy and MatPlotLib.'\n",
    "# message = 'Welcome to MSDM_5002 of data-driven modeling \\\n",
    "# for MSc students offered by phys&math Department in UST. \\\n",
    "# We will continue the in-depth study'\n",
    "\n",
    "message = input('Enter a message: ')\n",
    "capitalized_message = capitalize_title(message)\n",
    "print(capitalized_message)"
   ]
  },
  {
   "cell_type": "code",
   "execution_count": null,
   "id": "a8c82136-d340-43d5-af82-8837b2ffb267",
   "metadata": {},
   "outputs": [],
   "source": []
  }
 ],
 "metadata": {
  "kernelspec": {
   "display_name": "Python 3 (ipykernel)",
   "language": "python",
   "name": "python3"
  },
  "language_info": {
   "codemirror_mode": {
    "name": "ipython",
    "version": 3
   },
   "file_extension": ".py",
   "mimetype": "text/x-python",
   "name": "python",
   "nbconvert_exporter": "python",
   "pygments_lexer": "ipython3",
   "version": "3.9.6"
  }
 },
 "nbformat": 4,
 "nbformat_minor": 5
}
