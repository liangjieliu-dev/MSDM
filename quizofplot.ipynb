{
 "cells": [
  {
   "cell_type": "code",
   "execution_count": 2,
   "id": "865a8cc6-001a-4981-9557-9724ae7510df",
   "metadata": {},
   "outputs": [],
   "source": [
    "import numpy as np\n",
    "import matplotlib.pyplot as plt\n",
    "%matplotlib qt\n",
    "\n",
    "theta = np.linspace(0, 2 * np.pi, 1000)\n",
    "r = 1 - np.sin(theta)\n",
    "x_fat = r * np.cos(theta)\n",
    "y_fat = r * np.sin(theta)\n",
    "\n",
    "x = np.linspace(-2, 2, 1000)\n",
    "y1 = np.sqrt(1 - (np.abs(x) - 1)**2)\n",
    "y2 = np.arccos(1 - np.abs(x)) - np.pi\n",
    "\n",
    "fig, axs = plt.subplots(2, 2, figsize=(9,9))\n",
    "\n",
    "axs[0, 0].plot(x_fat, y_fat, 'b')\n",
    "axs[0, 0].set_title('fat heart')\n",
    "axs[0, 0].set_xticks([-1, 0, 1])\n",
    "axs[0, 0].set_yticks([-2.0, -1.5, -1.0, -0.5, 0.0])\n",
    "axs[0, 0].axis('square')\n",
    "\n",
    "axs[0, 1].plot(x, y1, 'r')\n",
    "axs[0, 1].plot(x, y2, 'r')\n",
    "axs[0, 1].set_title('better heart')\n",
    "axs[0, 1].set_xticks([-2, -1, 0, 1, 2])\n",
    "axs[0, 1].set_yticks([-3, -2, -1, 0, 1])\n",
    "axs[0, 1].axis('square')\n",
    "\n",
    "axs[1, 0].plot(x, y1, 'r')\n",
    "axs[1, 0].plot(x, y2, 'r')\n",
    "axs[1, 0].axis('off')\n",
    "axs[1, 0].text(0.5, 0.5, 'better heart', horizontalalignment='center', verticalalignment='center', transform=axs[1, 0].transAxes, color='b')\n",
    "axs[1, 0].axis('square')\n",
    "\n",
    "ax0 = fig.add_subplot(2, 2, 4, projection='polar')\n",
    "ax0.plot(theta, r, 'b')\n",
    "ax0.set_rgrids([0.5, 1.0, 1.5, 2.0], labels=['0.5', '1.0', '1.5', '2.0'])\n",
    "ax0.text(0.5, 0.5, 'fat heart', horizontalalignment='center', verticalalignment='center', transform=ax0.transAxes, color='b')\n",
    "axs[1, 1].axis('off')\n",
    "\n",
    "plt.savefig('my_plot.jpg', format='jpg')\n",
    "plt.show()"
   ]
  },
  {
   "cell_type": "code",
   "execution_count": null,
   "id": "abd3c1fe-c966-4faf-a2a7-1b78441d8282",
   "metadata": {},
   "outputs": [],
   "source": []
  }
 ],
 "metadata": {
  "kernelspec": {
   "display_name": "Python 3 (ipykernel)",
   "language": "python",
   "name": "python3"
  },
  "language_info": {
   "codemirror_mode": {
    "name": "ipython",
    "version": 3
   },
   "file_extension": ".py",
   "mimetype": "text/x-python",
   "name": "python",
   "nbconvert_exporter": "python",
   "pygments_lexer": "ipython3",
   "version": "3.9.6"
  }
 },
 "nbformat": 4,
 "nbformat_minor": 5
}
