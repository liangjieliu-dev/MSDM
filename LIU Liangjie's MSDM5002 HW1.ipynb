{
 "cells": [
  {
   "cell_type": "markdown",
   "id": "11671b66-ffb6-461f-80e7-5c1cde49adf1",
   "metadata": {},
   "source": [
    "# MSDM5002 HW1\n",
    "## Written by LIU, Liangjie"
   ]
  },
  {
   "cell_type": "markdown",
   "id": "58ce6d5b-8c76-487a-a050-abbb5e1f7078",
   "metadata": {},
   "source": [
    "## Q1\n",
    "\n",
    "The error lies in how `count_num` is incremented within the input loops. Currently, `count_num` increments on every iteration, regardless of whether the user's input is valid. This means that even if the user provides a valid input on the fourth attempt, `count_num` becomes 4, triggering the default value assignment.\n",
    "\n",
    "**Fix:** Modify the code so that `count_num` only increments when the user's input is invalid. This way, valid inputs won't unnecessarily increase the attempt counter."
   ]
  },
  {
   "cell_type": "code",
   "execution_count": 6,
   "id": "d54fcb16-92e8-4cbb-b0aa-0289e351e1ff",
   "metadata": {},
   "outputs": [
    {
     "name": "stdin",
     "output_type": "stream",
     "text": [
      "Enter the height: ni\n"
     ]
    },
    {
     "name": "stdout",
     "output_type": "stream",
     "text": [
      "Your input should be a number\n"
     ]
    },
    {
     "name": "stdin",
     "output_type": "stream",
     "text": [
      "Enter the height: ni\n"
     ]
    },
    {
     "name": "stdout",
     "output_type": "stream",
     "text": [
      "Your input should be a number\n"
     ]
    },
    {
     "name": "stdin",
     "output_type": "stream",
     "text": [
      "Enter the height: -1\n"
     ]
    },
    {
     "name": "stdout",
     "output_type": "stream",
     "text": [
      "Your input should be a POSITIVE number\n"
     ]
    },
    {
     "name": "stdin",
     "output_type": "stream",
     "text": [
      "Enter the height: -1\n"
     ]
    },
    {
     "name": "stdout",
     "output_type": "stream",
     "text": [
      "Your input should be a POSITIVE number\n",
      "You are so stupid! I have to stop you and set the initial height as 10 meters\n"
     ]
    },
    {
     "name": "stdin",
     "output_type": "stream",
     "text": [
      "Enter the time: -1\n"
     ]
    },
    {
     "name": "stdout",
     "output_type": "stream",
     "text": [
      "Your input should be a POSITIVE number\n"
     ]
    },
    {
     "name": "stdin",
     "output_type": "stream",
     "text": [
      "Enter the time: -1\n"
     ]
    },
    {
     "name": "stdout",
     "output_type": "stream",
     "text": [
      "Your input should be a POSITIVE number\n"
     ]
    },
    {
     "name": "stdin",
     "output_type": "stream",
     "text": [
      "Enter the time: -1\n"
     ]
    },
    {
     "name": "stdout",
     "output_type": "stream",
     "text": [
      "Your input should be a POSITIVE number\n"
     ]
    },
    {
     "name": "stdin",
     "output_type": "stream",
     "text": [
      "Enter the time: 4\n"
     ]
    },
    {
     "name": "stdout",
     "output_type": "stream",
     "text": [
      "\n",
      "The initial height of the ball is 10 meters\n",
      "Before 4.0 seconds, the ball has already hit the ground.\n"
     ]
    }
   ],
   "source": [
    "# Q1\n",
    "# Corrected Code:\n",
    "# Get the height of the ball h, and the falling time t\n",
    "count_num = 0\n",
    "while True:\n",
    "    h_tmp = input(\"Enter the height:\")\n",
    "    try:\n",
    "        h_val = float(h_tmp)\n",
    "        if h_val >= 0:\n",
    "            break  # Valid input, exit loop\n",
    "        else:\n",
    "            print(\"Your input should be a POSITIVE number\")\n",
    "            count_num += 1\n",
    "    except ValueError:\n",
    "        print(\"Your input should be a number\")\n",
    "        count_num += 1\n",
    "\n",
    "    if count_num > 3:\n",
    "        h_val = 10\n",
    "        print(\"You are so stupid! I have to stop you and set the initial height as 10 meters\")\n",
    "        break\n",
    "h = h_val\n",
    "\n",
    "count_num = 0\n",
    "while True:\n",
    "    t_tmp = input(\"Enter the time:\")\n",
    "    try:\n",
    "        t_val = float(t_tmp)\n",
    "        if t_val >= 0:\n",
    "            break  # Valid input, exit loop\n",
    "        else:\n",
    "            print(\"Your input should be a POSITIVE number\")\n",
    "            count_num += 1\n",
    "    except ValueError:\n",
    "        print(\"Your input should be a number\")\n",
    "        count_num += 1\n",
    "\n",
    "    if count_num > 3:\n",
    "        t_val = 1\n",
    "        print(\"You are so stupid! I have to stop you and set the time as 1 second\")\n",
    "        break\n",
    "t = t_val\n",
    "\n",
    "# Perform the calculations\n",
    "s = h - 9.81 * t**2 / 2\n",
    "\n",
    "# Print out the results\n",
    "print(\"\\nThe initial height of the ball is\", h, \"meters\")\n",
    "if s < 0:\n",
    "    print(\"Before\", t, \"seconds, the ball has already hit the ground.\")\n",
    "else:\n",
    "    print(\"After\", t, \"seconds, the height is\", s, \"meters\")"
   ]
  },
  {
   "cell_type": "code",
   "execution_count": 7,
   "id": "930283cb-d2d8-4da8-a42d-ffcf8245997c",
   "metadata": {},
   "outputs": [
    {
     "name": "stdout",
     "output_type": "stream",
     "text": [
      "The roots are 0.375+0.331i and 0.375-0.331i.\n"
     ]
    }
   ],
   "source": [
    "# Q2\n",
    "import math\n",
    "\n",
    "def quadratic(a, b, c):\n",
    "    discriminant = b**2 - 4*a*c\n",
    "    \n",
    "    if discriminant > 0:\n",
    "        # Two real roots\n",
    "        root1 = (-b + math.sqrt(discriminant)) / (2 * a)\n",
    "        root2 = (-b - math.sqrt(discriminant)) / (2 * a)\n",
    "        print(f\"The roots are {round(root1, 3)} and {round(root2, 3)}.\")\n",
    "    elif discriminant == 0:\n",
    "        # One real root\n",
    "        root = -b / (2 * a)\n",
    "        print(f\"The root is {round(root, 3)}.\")\n",
    "    else:\n",
    "        # Two complex roots\n",
    "        real_part = -b / (2 * a)\n",
    "        imaginary_part = math.sqrt(-discriminant) / (2 * a)\n",
    "        print(f\"The roots are {round(real_part, 3)}+{round(imaginary_part, 3)}i and {round(real_part, 3)}-{round(imaginary_part, 3)}i.\")\n",
    "\n",
    "quadratic(4, -3, 1)"
   ]
  },
  {
   "cell_type": "code",
   "execution_count": 8,
   "id": "d51db2f0-eda4-48db-859b-2fa79c9044e0",
   "metadata": {},
   "outputs": [
    {
     "name": "stdin",
     "output_type": "stream",
     "text": [
      "Please enter the size of the square (a), or 'q' to quit:  5\n",
      "Please enter the padding width (b), or 'q' to quit:  3\n"
     ]
    },
    {
     "name": "stdout",
     "output_type": "stream",
     "text": [
      "###########\n",
      "###########\n",
      "###########\n",
      "###     ###\n",
      "###     ###\n",
      "###     ###\n",
      "###     ###\n",
      "###     ###\n",
      "###########\n",
      "###########\n",
      "###########\n"
     ]
    }
   ],
   "source": [
    "# Q3\n",
    "# Part a\n",
    "def hollow_square(a, b):\n",
    "    total_size = a + 2 * b\n",
    "    for i in range(total_size):\n",
    "        if i < b or i >= b + a:\n",
    "            # If the row is within the padding (top or bottom), print all '#'\n",
    "            print('#' * total_size)\n",
    "        else:\n",
    "            # For the hollow part, print padding + spaces + padding\n",
    "            print('#' * b + ' ' * a + '#' * b)\n",
    "\n",
    "# Part b\n",
    "def hollow_square2():\n",
    "    while True:\n",
    "        a_input = input(\"Please enter the size of the square (a), or 'q' to quit: \")\n",
    "        if a_input.lower() == 'q':\n",
    "            print(\"Program terminated.\")\n",
    "            break\n",
    "\n",
    "        b_input = input(\"Please enter the padding width (b), or 'q' to quit: \")\n",
    "        if b_input.lower() == 'q':\n",
    "            print(\"Program terminated.\")\n",
    "            break\n",
    "\n",
    "        if a_input.isdigit() and b_input.isdigit():\n",
    "            a = int(a_input)\n",
    "            b = int(b_input)\n",
    "            hollow_square(a, b)\n",
    "            break\n",
    "        else:\n",
    "            print(\"Error: Both a and b must be non-negative integers. Please try again.\")\n",
    "\n",
    "hollow_square2()"
   ]
  },
  {
   "cell_type": "code",
   "execution_count": 14,
   "id": "0719eddd-fe7c-4d94-a989-18551c38f865",
   "metadata": {},
   "outputs": [
    {
     "name": "stdout",
     "output_type": "stream",
     "text": [
      "***************************************\n",
      "***  programmed by IA for MSDM5002  ***\n",
      "***         date: 2024-09-19        ***\n",
      "***---------------------------------***\n",
      "***  You can use it as you like,    ***\n",
      "***  but there might be many bugs.  ***\n",
      "***  If you find some bugs, please  ***\n",
      "***  send them to \"ia@ust.hk\"       ***\n",
      "***************************************\n",
      "*************************************************\n",
      "***  programmed by CHAN Tai Man for MSDM5002  ***\n",
      "***              date: 2024-01-01             ***\n",
      "***-------------------------------------------***\n",
      "***  You can use it as you like, but there    ***\n",
      "***  might be many bugs. If you find some     ***\n",
      "***  bugs, please send them to \"tmchan@asdfa  ***\n",
      "***  sdfasdfasdfasdfasdfasdfasdfasdfasdfasdf  ***\n",
      "***  asdfasdfasdfasdfasdf.com\"                ***\n",
      "*************************************************\n"
     ]
    }
   ],
   "source": [
    "from datetime import date\n",
    "\n",
    "TODAY = str(date.today())\n",
    "\n",
    "def my_copyright5(name, email, input_date=TODAY):\n",
    "    name_str = f\"programmed by {name} for MSDM5002\"\n",
    "    total_width = len(name_str) + 10\n",
    "    str_star = '*' * total_width\n",
    "    print(str_star)\n",
    "    print(f\"***  {name_str}  ***\")\n",
    "    \n",
    "    date_str = f\"date: {input_date}\"\n",
    "    padding = (total_width - len(date_str)) // 2 - 3\n",
    "    print(f\"***{' ' * (total_width - 6 - len(date_str) - padding)}{date_str}{' ' * padding}***\")\n",
    "    \n",
    "    print(f\"***{'-' * (total_width - 6)}***\")\n",
    "    \n",
    "    statements = ('You can use it as you like, but there might be many bugs. '\n",
    "                  'If you find some bugs, please send them to \"' + email + '\"')\n",
    "    \n",
    "    start_point = 0\n",
    "    line_width = len(name_str)\n",
    "    while start_point < len(statements):\n",
    "        end_point = min(start_point + line_width, len(statements))\n",
    "        if end_point < len(statements)  and statements[end_point] != ' ' :\n",
    "            temp = end_point\n",
    "            while temp > start_point and statements[temp] != ' ' and statements[temp] != '\"':\n",
    "                temp -= 1\n",
    "            if temp == start_point or statements[temp] == '\"':\n",
    "                pass\n",
    "            else:\n",
    "                end_point = temp\n",
    "        line = statements[start_point:end_point]\n",
    "        print(f\"***  {line}{' ' * (total_width - 8 - len(line))}***\")\n",
    "        start_point = end_point\n",
    "        while start_point < len(statements) and statements[start_point] == ' ':\n",
    "            start_point += 1\n",
    "    print(str_star)\n",
    "\n",
    "# Example 1\n",
    "my_copyright5('IA', 'ia@ust.hk')\n",
    "\n",
    "# Example 2\n",
    "my_copyright5('CHAN Tai Man', 'tmchan@asdfasdfasdfasdfasdfasdfasdfasdfasdfasdfasdfasdfasdfasdfasdfasdf.com', '2024-01-01')"
   ]
  }
 ],
 "metadata": {
  "kernelspec": {
   "display_name": "Python 3 (ipykernel)",
   "language": "python",
   "name": "python3"
  },
  "language_info": {
   "codemirror_mode": {
    "name": "ipython",
    "version": 3
   },
   "file_extension": ".py",
   "mimetype": "text/x-python",
   "name": "python",
   "nbconvert_exporter": "python",
   "pygments_lexer": "ipython3",
   "version": "3.9.6"
  }
 },
 "nbformat": 4,
 "nbformat_minor": 5
}
