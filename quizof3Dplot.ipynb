{
 "cells": [
  {
   "cell_type": "code",
   "execution_count": 4,
   "id": "12f648cf-dba0-4338-9f58-e19db36c71f1",
   "metadata": {},
   "outputs": [
    {
     "data": {
      "text/plain": [
       "(-34.374829685738646,\n",
       " 34.374829685738646,\n",
       " -102.57834687075479,\n",
       " 28.330567263061003,\n",
       " -35.89417117914049,\n",
       " 34.47824464324256)"
      ]
     },
     "execution_count": 4,
     "metadata": {},
     "output_type": "execute_result"
    }
   ],
   "source": [
    "\n",
    "from mpl_toolkits import mplot3d\n",
    "import numpy as np\n",
    "import matplotlib.pyplot as plt\n",
    "fig=plt.figure(figsize=(10,10), dpi=100)\n",
    "ax1=plt.subplot(111,projection='3d',proj_type='ortho')\n",
    "# axs = fig.add_gridspec(2, 1, hspace=0, wspace=0)\n",
    "# ax1=fig.add_subplot(axs[:,:],projection='3d',proj_type='ortho')\n",
    "#plot the target\n",
    "theta=np.linspace(0, np.pi*2, 500)\n",
    "for nr in range(4):\n",
    "    x = np.sin(theta)*nr*10\n",
    "    y = np.cos(theta)*nr*10\n",
    "    ax1.scatter3D(x,20,y,c='r',s=1)\n",
    "#plot the spiral arrow\n",
    "Num_period=10\n",
    "Num_points=500\n",
    "# Data for a three-dimensional line\n",
    "zline = np.linspace(-np.pi*Num_period,0, Num_points)\n",
    "xline = np.sin(zline)*zline\n",
    "yline = np.cos(zline)*zline\n",
    "ax1.plot3D(xline, zline, yline,'gray')\n",
    "ax1.plot3D(xline*0, zline*3, yline*0, linewidth=2,color='b')\n",
    "ax1.scatter3D(xline, zline, yline, c=abs(zline), s=abs(zline), cmap='jet');\n",
    "phi=0\n",
    "theta=-15\n",
    "ax1.view_init(phi, theta)\n",
    "ax1.text(0,-70,2,'spiral arrow',fontsize=20)\n",
    "#ensure the aspect is correct\n",
    "ax1.set_box_aspect([1,5,1])\n",
    "plt.axis('off')\n"
   ]
  },
  {
   "cell_type": "code",
   "execution_count": null,
   "id": "ebd8e19a-6606-42cb-9c3d-004b4078a0a0",
   "metadata": {},
   "outputs": [],
   "source": []
  }
 ],
 "metadata": {
  "kernelspec": {
   "display_name": "Python 3 (ipykernel)",
   "language": "python",
   "name": "python3"
  },
  "language_info": {
   "codemirror_mode": {
    "name": "ipython",
    "version": 3
   },
   "file_extension": ".py",
   "mimetype": "text/x-python",
   "name": "python",
   "nbconvert_exporter": "python",
   "pygments_lexer": "ipython3",
   "version": "3.9.6"
  }
 },
 "nbformat": 4,
 "nbformat_minor": 5
}
